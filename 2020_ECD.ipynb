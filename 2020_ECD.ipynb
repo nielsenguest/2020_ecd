{
  "nbformat": 4,
  "nbformat_minor": 0,
  "metadata": {
    "colab": {
      "name": "Strategy Tour 2020.ipynb",
      "provenance": [],
      "collapsed_sections": [],
      "include_colab_link": true
    },
    "kernelspec": {
      "name": "python3",
      "display_name": "Python 3"
    }
  },
  "cells": [
    {
      "cell_type": "markdown",
      "metadata": {
        "id": "view-in-github",
        "colab_type": "text"
      },
      "source": [
        "<a href=\"https://colab.research.google.com/github/nielsenguest/2020_ecd/blob/master/2020_ECD.ipynb\" target=\"_parent\"><img src=\"https://colab.research.google.com/assets/colab-badge.svg\" alt=\"Open In Colab\"/></a>"
      ]
    },
    {
      "cell_type": "markdown",
      "metadata": {
        "id": "00Gh8HBAANWd",
        "colab_type": "text"
      },
      "source": [
        "\n",
        "\n",
        "---\n",
        "\n",
        "\n",
        "Getting started\n",
        "---\n",
        " This notebook will help you with selecting variables, creating models and validating their outcomes. In order to get started, there are a few code blocks that you should run to import the required modules and data. You can run a block of code by clicking on the code and either hitting the Run bottom on the left or by typing *Ctrl + Enter*. If you have any questions, don't hesitate to ask us!"
      ]
    },
    {
      "cell_type": "code",
      "metadata": {
        "id": "7DqsA7e0H14U",
        "colab_type": "code",
        "colab": {}
      },
      "source": [
        "# Intall modules that aren't built-in yet\n",
        "!pip install -q statsmodels"
      ],
      "execution_count": null,
      "outputs": []
    },
    {
      "cell_type": "code",
      "metadata": {
        "id": "-M5VU-8gDwSx",
        "colab_type": "code",
        "colab": {}
      },
      "source": [
        "# Import modules\n",
        "import os\n",
        "import pandas as pd\n",
        "import numpy as np\n",
        "import matplotlib.pyplot as plt\n",
        "import seaborn as sns\n",
        "import statsmodels.api as sm\n",
        "import statsmodels.formula.api as smf\n",
        "from statsmodels.genmod.generalized_linear_model import GLM\n",
        "from statsmodels.genmod import families\n",
        "from statsmodels.tools import eval_measures\n",
        "from sklearn.metrics import confusion_matrix\n",
        "from sklearn.model_selection import train_test_split\n",
        "from google.colab import files"
      ],
      "execution_count": null,
      "outputs": []
    },
    {
      "cell_type": "code",
      "metadata": {
        "id": "Ll5weGZD4-Wd",
        "colab_type": "code",
        "colab": {}
      },
      "source": [
        "# Run this block to upload the data (which is located on your Desktop folder)\n",
        "uploaded = files.upload()"
      ],
      "execution_count": null,
      "outputs": []
    },
    {
      "cell_type": "code",
      "metadata": {
        "id": "oW5sxDS5pV0y",
        "colab_type": "code",
        "colab": {}
      },
      "source": [
        "# Read the data in\n",
        "data = pd.read_csv('data.csv')\n",
        "\n",
        "# View the first 5 rows of the data\n",
        "data.head(5)"
      ],
      "execution_count": null,
      "outputs": []
    },
    {
      "cell_type": "markdown",
      "metadata": {
        "id": "EMnTUD7zGveE",
        "colab_type": "text"
      },
      "source": [
        "\n",
        "\n",
        "---\n",
        "\n",
        "\n",
        "\n",
        "About the data\n",
        "---\n",
        "In the code block above we imported the data. The goal is to make a model that gives insights on the effectiveness of media on the KPI *kpi_familiarity*. In the data we make a distinction between 4 kinds of different variables denoted by the prefix:\n",
        "\n",
        "\n",
        "1.   *kpi_* : The KPI (key performance indicator) is the variable that we want to model\n",
        "2.   *sd_*  : Socio demographic variables, e.g. gender and age\n",
        "3.   *ctrl_*  : Control variables, e.g. whether a respondent has cable tv?\n",
        "4.   *media_*   : Media variables, i.e. how often was the respondent contacted by the campaign via a certain media channel?\n",
        "\n",
        "\n",
        "To make life easier, we already included a recoded version of all the \"raw\" variables to dummies. For example, we say that the respondent is familiar when he or she answered: \"Know a lot about it\", \"Know everything about it\" and \"Know a little about it\" (run the code block below to see a visual representation). A more detailed overview of all the variables in the data can be found in the Excel file or [here](https://github.com/nielsenguest/strategy_tour_2020/blob/master/variable_overview.csv).\n"
      ]
    },
    {
      "cell_type": "code",
      "metadata": {
        "id": "lKsuV28a2N3S",
        "colab_type": "code",
        "colab": {}
      },
      "source": [
        "fig, ax = plt.subplots(ncols=2, figsize=(7, 7))\n",
        "sns.countplot(x='kpi_familiarity_raw', data=data.sort_values('kpi_familiarity_raw'), ax=ax[0])\n",
        "ax[0].set_xticklabels(rotation=90, labels=ax[0].get_xticklabels())\n",
        "sns.countplot(x='kpi_familiarity', data=data, ax=ax[1])\n",
        "ax[0].set_title('Raw KPI')\n",
        "ax[1].set_title('Recoded KPI')\n",
        "plt.tight_layout()"
      ],
      "execution_count": null,
      "outputs": []
    },
    {
      "cell_type": "markdown",
      "metadata": {
        "id": "D54TuKm7GzYe",
        "colab_type": "text"
      },
      "source": [
        "\n",
        "\n",
        "---\n",
        "\n",
        "\n",
        "Let's start modeling\n",
        "---\n",
        "In the code below you can create your own model! We give you the option to choose between two models, being OLS and logistic regression, but feel free to code another model as well. In case you would like to refresh your memory about the model types: [OLS regression](https://en.wikipedia.org/wiki/Ordinary_least_squares) and [logistic regression](https://en.wikipedia.org/wiki/Logistic_regression). \n",
        "\n",
        "Think carefully about your model choice and what the limitations are of this model. Here are some things to think about: \n",
        "\n",
        "*   What are the variables you want to include?\n",
        "*   How can I test the performance of my model?\n",
        "*   What is the interpretation of the estimated coefficients?\n",
        "*   What is a good cut-off value?\n",
        "\n",
        "**How to get started?**\n",
        "\n",
        "You'll first have to select the variables you want to include in your model. Tip: run the code block below to quickly see all possible independent variables. Of course you are free to create new (interaction) variables too."
      ]
    },
    {
      "cell_type": "code",
      "metadata": {
        "id": "TA154QUD9kZX",
        "colab_type": "code",
        "colab": {}
      },
      "source": [
        "# Show all socio demographic, control & media variables in the data\n",
        "list(data.filter(regex='^sd_|^ctrl_|^media_'))"
      ],
      "execution_count": null,
      "outputs": []
    },
    {
      "cell_type": "markdown",
      "metadata": {
        "id": "FLtm2xHa9zN4",
        "colab_type": "text"
      },
      "source": [
        "After selecting the variables you want to include in your model, you will have to choose the model type. \n",
        "\n",
        "```\n",
        "# Select OLS model\n",
        "model_type = 'ols'\n",
        "```\n",
        "\n",
        "```\n",
        "# Select logistic model\n",
        "model_type = 'logistic'\n",
        "```\n",
        "\n",
        "That's all you need to know to start modeling. Good luck!\n",
        "\n",
        "\n",
        "---\n",
        "\n"
      ]
    },
    {
      "cell_type": "markdown",
      "metadata": {
        "id": "kgAI-vBl3UYS",
        "colab_type": "text"
      },
      "source": [
        "\n",
        "Run your model\n",
        "---\n"
      ]
    },
    {
      "cell_type": "code",
      "metadata": {
        "id": "Tjyt3T8EG1JB",
        "colab_type": "code",
        "colab": {}
      },
      "source": [
        "# Select response variable\n",
        "y_var = 'kpi_familiarity'  # Do not change this\n",
        "\n",
        "# Specifying the name of the X variables you want to include in your model\n",
        "# Note: the variables selected below are an example. Feel free to make your own selection  \n",
        "x_vars = ['sd_age_group_18_26', 'sd_age_group_27_35']\n",
        "\n",
        "# Create training and test data\n",
        "X_train, X_test, y_train, y_test = train_test_split(data[x_vars], data[y_var],\n",
        "                                                    test_size=0.33, random_state=42)\n",
        "\n",
        "\n",
        "# Select here if you want to select OLS or logistic model\n",
        "model_type = 'ols'  # logistic or ols\n",
        "\n",
        "# For OLS models:\n",
        "if model_type == 'ols':\n",
        "  model = sm.OLS(endog=y_train, exog=X_train).fit()\n",
        "  print(model.summary())\n",
        "\n",
        "  # Get other metrics\n",
        "  y_pred = model.predict(X_test)  # These are the predicted probabilities\n",
        "  print(f'MSE: {np.mean((y_test - y_pred)**2)}')\n",
        "  \n",
        "# For logistic regression:\n",
        "if model_type == 'logistic':\n",
        "  model = GLM(data[y_var], data[x_vars],\n",
        "  family = families.Binomial()).fit(attach_wls=True, atol=1e-10)\n",
        "  print(model.summary())\n",
        "\n",
        "  # Confusion matrix\n",
        "  cut_off = 0.5  # Set a cut-off value\n",
        "  y_pred = model.predict(X_test)  # These are the predicted probabilities\n",
        "  y_pred = np.where(y_pred >= cut_off, 1, 0)\n",
        "  cf_matrix = confusion_matrix(y_test, y_pred)\n",
        "  print(f'Out of sample predictions: \\n {cf_matrix}')\n"
      ],
      "execution_count": null,
      "outputs": []
    },
    {
      "cell_type": "markdown",
      "metadata": {
        "id": "IFDcFbkqfAay",
        "colab_type": "text"
      },
      "source": [
        "\n",
        "\n",
        "---\n",
        "\n",
        "\n",
        "Save your model\n",
        "---\n",
        "You can save your model by running the code block below. Please make sure that you give your model a name. For example:\n",
        "```\n",
        "# Name your model model_1\n",
        "model_name = 'model_1'\n",
        "```\n"
      ]
    },
    {
      "cell_type": "code",
      "metadata": {
        "id": "huc7eTCqcL6b",
        "colab_type": "code",
        "colab": {}
      },
      "source": [
        "# Specify the model name here\n",
        "model_name = '' \n",
        "\n",
        "# We check whether this directory exists; if not, we'll create it\n",
        "if not os.path.exists('models/'):\n",
        "  os.mkdir('models/')\n",
        "\n",
        "# Check whether this model is already saved\n",
        "if os.path.exists(f'models/{model_name}_{model_type}.pkl'):\n",
        "  print('You already saved a model with the same name to this location. Are you sure you want to overwrite this model?')\n",
        "  print('yes/no ?')\n",
        "\n",
        "  x = input()\n",
        "  if x == 'yes':\n",
        "    model.save(f'models/{model_name}_{model_type}.pkl')\n",
        "    print('Model is saved')\n",
        "  else:\n",
        "    print('Model not saved')\n",
        "else:    \n",
        "  model.save(f'models/{model_name}_{model_type}.pkl')\n",
        "  print('model is saved')\n"
      ],
      "execution_count": null,
      "outputs": []
    },
    {
      "cell_type": "markdown",
      "metadata": {
        "id": "qSFDvLUjtUVH",
        "colab_type": "text"
      },
      "source": [
        "\n",
        "\n",
        "---\n",
        "\n",
        "\n",
        "Load your model\n",
        "---\n",
        "You can load in a model by specifying its name (see below for an example) and running the following blocks of code.\n",
        "\n",
        "```\n",
        "# Load the model called model_1\n",
        "load_model = 'model_1'\n",
        "```\n",
        "\n"
      ]
    },
    {
      "cell_type": "code",
      "metadata": {
        "id": "Aaw1-S_6gS80",
        "colab_type": "code",
        "colab": {}
      },
      "source": [
        "# Check which models you saved\n",
        "model_folder = 'models/'\n",
        "print(f'Your saved models: {os.listdir(model_folder)}')"
      ],
      "execution_count": null,
      "outputs": []
    },
    {
      "cell_type": "code",
      "metadata": {
        "id": "G6-kHj9thKmH",
        "colab_type": "code",
        "colab": {}
      },
      "source": [
        "# Load your model\n",
        "load_model = ''  # model_1\n",
        "model = sm.load(f'models/{load_model}.pkl')\n",
        "print(model.summary())"
      ],
      "execution_count": null,
      "outputs": []
    },
    {
      "cell_type": "markdown",
      "metadata": {
        "id": "Oltv4j-ivAmd",
        "colab_type": "text"
      },
      "source": [
        "In case you want to see a summary of all your saved models, run the following block of code."
      ]
    },
    {
      "cell_type": "code",
      "metadata": {
        "id": "0U24fSyVwe3C",
        "colab_type": "code",
        "colab": {}
      },
      "source": [
        "# Show summary of all saved models\n",
        "model_folder = 'models/'\n",
        "for model in os.listdir('models/'):\n",
        "  try:\n",
        "    model_name\n",
        "    model = sm.load(f'models/{model}')\n",
        "    print(f'Summary for model {model_name}: {model.summary()}')\n",
        "  except:\n",
        "    print(f'Something went wrong saving model: {model_name}')"
      ],
      "execution_count": null,
      "outputs": []
    },
    {
      "cell_type": "markdown",
      "metadata": {
        "id": "d1TLEkbBCEe1",
        "colab_type": "text"
      },
      "source": [
        "\n",
        "\n",
        "---\n",
        "\n",
        "Additional analysis\n",
        "---\n",
        "\n",
        "When you are satisfied with your model(s), it would be good to think about doing some additional analysis on the data and/or results. Are there are any things in the data that could be interesting information for the client? Or are there any visualizations that would help them gain more insights on the model (e.g. variable importance, correlation analysis, etc.)? Be creative! "
      ]
    },
    {
      "cell_type": "code",
      "metadata": {
        "id": "1sjr_E_LH7Zn",
        "colab_type": "code",
        "colab": {}
      },
      "source": [
        "# Code your additional analysis here\n"
      ],
      "execution_count": null,
      "outputs": []
    }
  ]
}