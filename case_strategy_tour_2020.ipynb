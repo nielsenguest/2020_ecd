{
  "nbformat": 4,
  "nbformat_minor": 0,
  "metadata": {
    "colab": {
      "name": "led_case_nieuwegein_2020.ipynb",
      "provenance": [],
      "collapsed_sections": [],
      "authorship_tag": "ABX9TyMH8bkGpiUVP83ysbYLg35r",
      "include_colab_link": true
    },
    "kernelspec": {
      "name": "python3",
      "display_name": "Python 3"
    }
  },
  "cells": [
    {
      "cell_type": "markdown",
      "metadata": {
        "id": "view-in-github",
        "colab_type": "text"
      },
      "source": [
        "<a href=\"https://colab.research.google.com/github/nielsenguest/led_nieuwegein_2020/blob/master/led_case_nieuwegein_2020.ipynb\" target=\"_parent\"><img src=\"https://colab.research.google.com/assets/colab-badge.svg\" alt=\"Open In Colab\"/></a>"
      ]
    },
    {
      "cell_type": "markdown",
      "metadata": {
        "id": "0NOInsfPTF-E",
        "colab_type": "text"
      },
      "source": [
        "\n",
        "\n",
        "---\n",
        "\n",
        "\n",
        "Getting started\n",
        "---\n",
        " This notebook will help you with selecting variables, creating models and validating their outcomes. In order to get started, there are a few code blocks that you should run to import the required modules and data. You can run a block of code by clicking on the code and either hitting the Run bottom on the left or by typing *Ctrl + Enter*. If you have any questions, don't hesitate to ask us!"
      ]
    },
    {
      "cell_type": "code",
      "metadata": {
        "id": "m3j6sW-iTHT2",
        "colab_type": "code",
        "colab": {}
      },
      "source": [
        "# Intall modules that aren't built-in yet\n",
        "!pip install -q statsmodels"
      ],
      "execution_count": 0,
      "outputs": []
    },
    {
      "cell_type": "code",
      "metadata": {
        "id": "ohRvCb98THhi",
        "colab_type": "code",
        "colab": {}
      },
      "source": [
        "# Import modules\n",
        "import os\n",
        "import pandas as pd\n",
        "import numpy as np\n",
        "import matplotlib.pyplot as plt\n",
        "import seaborn as sns\n",
        "import statsmodels.api as sm\n",
        "import statsmodels.formula.api as smf\n",
        "from statsmodels.genmod.generalized_linear_model import GLM\n",
        "from statsmodels.genmod import families\n",
        "from statsmodels.tools import eval_measures\n",
        "from sklearn.metrics import confusion_matrix\n",
        "from sklearn.model_selection import train_test_split\n",
        "from google.colab import files"
      ],
      "execution_count": 0,
      "outputs": []
    },
    {
      "cell_type": "code",
      "metadata": {
        "id": "lhm6FLHZTH5D",
        "colab_type": "code",
        "colab": {}
      },
      "source": [
        "# Run this block to upload the data (which is located on your Desktop folder)\n",
        "uploaded = files.upload()"
      ],
      "execution_count": 0,
      "outputs": []
    },
    {
      "cell_type": "code",
      "metadata": {
        "id": "E_eLBYKWTgBh",
        "colab_type": "code",
        "colab": {}
      },
      "source": [
        "# Read the data in\n",
        "data = pd.read_csv('data.csv')\n",
        "\n",
        "# View the first 5 rows of the data\n",
        "data.head(5)"
      ],
      "execution_count": 0,
      "outputs": []
    },
    {
      "cell_type": "markdown",
      "metadata": {
        "id": "iFC1Q0BtTJAC",
        "colab_type": "text"
      },
      "source": [
        "\n",
        "\n",
        "---\n",
        "\n",
        "\n",
        "\n",
        "About the data\n",
        "---\n",
        "In the code block above we imported the data. The goal is to make a model that gives insights on the effectiveness of media on the KPI *kpi_familiarity*. In the data we make a distinction between 4 kinds of different variables denoted by the prefix:\n",
        "\n",
        "\n",
        "1.   *kpi_* : The KPI (key performance indicator) is the variable that we want to model\n",
        "2.   *sd_*  : Socio demographic variables, e.g. gender and age\n",
        "3.   *ctrl_*  : Control variables, e.g. whether a respondent has cable tv?\n",
        "4.   *media_*   : Media variables, i.e. how often was the respondent contacted by the campaign via a certain media channel?\n",
        "\n",
        "\n",
        "To make life easier, we already included a recoded version of all the \"raw\" variables to dumies. For example, we say that the respondent is familiar when he or she answered: \"Know a lot about it\", \"Know everything about it\" and \"Know a little about it\" (run the code block below to see a visual representation). A more detailed overview of all the variables in the data can be found in the Excel file or [here](https://github.com/nielsenguest/led_2020_nieuwegein/blob/master/data/variable_overview.csv)."
      ]
    },
    {
      "cell_type": "code",
      "metadata": {
        "id": "41rcum46TkBt",
        "colab_type": "code",
        "colab": {}
      },
      "source": [
        "fig, ax = plt.subplots(ncols=2, figsize=(7, 7))\n",
        "sns.countplot(x='kpi_familiarity_raw', data=data.sort_values('kpi_familiarity_raw'), ax=ax[0])\n",
        "ax[0].set_xticklabels(rotation=90, labels=ax[0].get_xticklabels())\n",
        "sns.countplot(x='kpi_familiarity', data=data, ax=ax[1])\n",
        "ax[0].set_title('Raw KPI')\n",
        "ax[1].set_title('Recoded KPI')\n",
        "plt.tight_layout()"
      ],
      "execution_count": 0,
      "outputs": []
    },
    {
      "cell_type": "markdown",
      "metadata": {
        "id": "4cnb82XBTx5O",
        "colab_type": "text"
      },
      "source": [
        "\n",
        "---\n",
        "\n",
        "\n",
        "Let's start modeling\n",
        "---\n",
        "In the code below you can create your own model! We give you the option to choose between two models, being OLS and logistic regression, but feel free to code another model as well. In case you would like to refresh your memory about the model types: [OLS regression](https://en.wikipedia.org/wiki/Ordinary_least_squares) and [logistic regression](https://en.wikipedia.org/wiki/Logistic_regression). \n",
        "\n",
        "Think carefully about your model choice and what the limitations are of this model. Here are some things to think about: \n",
        "\n",
        "*   What are the variables you want to include?\n",
        "*   How can I test the performance of my model?\n",
        "*   What is the interpretation of the estimated coefficients?\n",
        "*   What is a good cut-off value?\n",
        "\n",
        "**How to get started?**\n",
        "\n",
        "You first have to select the variables you want to include in your model. Tip: run the code block below to quickly see all possible independent variables. Of course you are free to create new (interaction) variables too."
      ]
    },
    {
      "cell_type": "code",
      "metadata": {
        "id": "UF81830rT1HC",
        "colab_type": "code",
        "colab": {}
      },
      "source": [
        "# Show all socio demographic, control & media variables in the data\n",
        "list(data.filter(regex='^sd_|^ctrl_|^media_'))"
      ],
      "execution_count": 0,
      "outputs": []
    },
    {
      "cell_type": "markdown",
      "metadata": {
        "id": "c7mKvbEaT5ct",
        "colab_type": "text"
      },
      "source": [
        "After selecting the variables you want to include in your model, you will have to choose the model type. \n",
        "\n",
        "```\n",
        "# Select OLS model\n",
        "model_type = 'ols'\n",
        "```\n",
        "\n",
        "```\n",
        "# Select logistic model\n",
        "model_type = 'logistic'\n",
        "```\n",
        "\n",
        "That's all you need to know to start modeling. Good luck!\n",
        "\n",
        "\n",
        "---\n"
      ]
    },
    {
      "cell_type": "markdown",
      "metadata": {
        "id": "Aa0vNmOHT8NT",
        "colab_type": "text"
      },
      "source": [
        "Run your model\n",
        "---"
      ]
    },
    {
      "cell_type": "code",
      "metadata": {
        "id": "QquqNSfCUDqR",
        "colab_type": "code",
        "colab": {}
      },
      "source": [
        "# Select response variable\n",
        "y_var = 'kpi_familiarity'  # Do not change this\n",
        "\n",
        "# Specifying the name of the X variables you want to include in your model\n",
        "# Note: the variables selected below are an example. Feel free to make your own selection  \n",
        "x_vars = ['sd_age_group_18_26', 'sd_age_group_27_35','sd_age_group_36_44', \n",
        "            'sd_gender_Male',\n",
        "            'ctrl_subscription_otherservices_1', 'ctrl_subscription_otherservices_2ormore',\n",
        "            'ctrl_interest_moviesseries_Not_interested', \"ctrl_interest_moviesseries_A_bit_interested\",\n",
        "            'media_dooh', 'media_ooh', 'media_radio', 'media_social', 'media_youtube']\n",
        "\n",
        "# Create training and test data\n",
        "X_train, X_test, y_train, y_test = train_test_split(data[x_vars], data[y_var],\n",
        "                                                    test_size=0.33, random_state=42)\n",
        "\n",
        "\n",
        "# Select here if you want to select OLS or logistic model\n",
        "model_type = 'ols'  # logistic or ols\n",
        "\n",
        "# For OLS models:\n",
        "if model_type == 'ols':\n",
        "  model = sm.OLS(endog=y_train, exog=X_train).fit()\n",
        "  print(model.summary())\n",
        "\n",
        "  # Get other metrics\n",
        "  y_pred = model.predict(X_test)  # These are the predicted probabilities\n",
        "  print(f'MSE: {np.mean((y_test - y_pred)**2)}')\n",
        "  \n",
        "# For logistic regression:\n",
        "if model_type == 'logistic':\n",
        "  model = GLM(data[y_var], data[x_vars],\n",
        "  family = families.Binomial()).fit(attach_wls=True, atol=1e-10)\n",
        "  print(model.summary())\n",
        "\n",
        "  # Confusion matrix\n",
        "  cut_off = 0.5  # Set a cut-off value\n",
        "  y_pred = model.predict(X_test)  # These are the predicted probabilities\n",
        "  y_pred = np.where(y_pred >= cut_off, 1, 0)\n",
        "  cf_matrix = confusion_matrix(y_test, y_pred)\n",
        "  print(f'Out of sample predictions: \\n {cf_matrix}')"
      ],
      "execution_count": 0,
      "outputs": []
    },
    {
      "cell_type": "markdown",
      "metadata": {
        "id": "_Xx55dECUIRi",
        "colab_type": "text"
      },
      "source": [
        "\n",
        "---\n",
        "\n",
        "\n",
        "Save your model your model\n",
        "---\n",
        "You can save your model by running the code block below. Please make sure that you give your model a name. For example:\n",
        "```\n",
        "# Name your model model_1\n",
        "model_name = 'model_1'\n",
        "```"
      ]
    },
    {
      "cell_type": "code",
      "metadata": {
        "id": "HNgZDjF6UMOZ",
        "colab_type": "code",
        "colab": {}
      },
      "source": [
        "# Specify the model name here\n",
        "model_name = '' \n",
        "\n",
        "# We check whether this directory exists; if not, we'll create it\n",
        "if not os.path.exists('models/'):\n",
        "  os.mkdir('models/')\n",
        "\n",
        "# Check whether this model is already saved\n",
        "if os.path.exists(f'models/{model_name}_{model_type}.pkl'):\n",
        "  print('You already saved a model with the same name to this location. Are you sure you want to overwrite this model?')\n",
        "  print('yes/no ?')\n",
        "\n",
        "  x = input()\n",
        "  if x == 'yes':\n",
        "    model.save(f'models/{model_name}_{model_type}.pkl')\n",
        "    print('Model is saved')\n",
        "  else:\n",
        "    print('Model not saved')\n",
        "else:    \n",
        "  model.save(f'models/{model_name}_{model_type}.pkl')\n",
        "  print('model is saved')"
      ],
      "execution_count": 0,
      "outputs": []
    },
    {
      "cell_type": "markdown",
      "metadata": {
        "id": "o5MUak1uUPY-",
        "colab_type": "text"
      },
      "source": [
        "\n",
        "\n",
        "---\n",
        "\n",
        "\n",
        "Load your model\n",
        "---\n",
        "You can load in a model by specifying its name (see below for an example) and running the following blocks of code.\n",
        "\n",
        "```\n",
        "# Load the model called model_1\n",
        "load_model = 'model_1'\n",
        "```\n"
      ]
    },
    {
      "cell_type": "code",
      "metadata": {
        "id": "jUpAVqVhUSd6",
        "colab_type": "code",
        "colab": {}
      },
      "source": [
        "# Check which models you saved\n",
        "model_folder = 'models/'\n",
        "print(f'Your saved models: {os.listdir(model_folder)}')"
      ],
      "execution_count": 0,
      "outputs": []
    },
    {
      "cell_type": "code",
      "metadata": {
        "id": "itEb53xcUrlt",
        "colab_type": "code",
        "colab": {}
      },
      "source": [
        "# Load your model\n",
        "load_model = ''  # model_1\n",
        "model = sm.load(f'models/{load_model}.pkl')\n",
        "print(model.summary())"
      ],
      "execution_count": 0,
      "outputs": []
    },
    {
      "cell_type": "markdown",
      "metadata": {
        "id": "uvbT0FbwUUpy",
        "colab_type": "text"
      },
      "source": [
        "In case you want to see a summary of all your saved models, run the following block of code."
      ]
    },
    {
      "cell_type": "code",
      "metadata": {
        "id": "3FFULL5QUaOy",
        "colab_type": "code",
        "colab": {}
      },
      "source": [
        "# Show summary of all saved models\n",
        "model_folder = 'models/'\n",
        "for model in os.listdir('models/'):\n",
        "  try:\n",
        "    model_name\n",
        "    model = sm.load(f'models/{model}')\n",
        "    print(f'Summary for model {model_name}: {model.summary()}')\n",
        "  except:\n",
        "    print(f'Something went wrong saving model: {model_name}')"
      ],
      "execution_count": 0,
      "outputs": []
    },
    {
      "cell_type": "markdown",
      "metadata": {
        "id": "QYTXjsfeUyNx",
        "colab_type": "text"
      },
      "source": [
        "\n",
        "---\n",
        "\n",
        "Additional analysis\n",
        "---\n",
        "\n",
        "When you are satisfied with your model(s), it would be good to think about doing some additional analysis on the data and/or results. Are there are any things in the data that could be interesting information for the client? Or are there any visualizations that would help them gain more insights on the model (e.g. variable importance, correlation analysis, etc.)? Be creative! "
      ]
    },
    {
      "cell_type": "code",
      "metadata": {
        "id": "8zzDoQA9U1CR",
        "colab_type": "code",
        "colab": {}
      },
      "source": [
        "# Code your additional analysis here"
      ],
      "execution_count": 0,
      "outputs": []
    }
  ]
}
